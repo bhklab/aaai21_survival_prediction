{
 "cells": [
  {
   "cell_type": "code",
   "execution_count": 3,
   "metadata": {},
   "outputs": [],
   "source": [
    "import os\n",
    "import glob\n",
    "\n",
    "import pandas as pd\n",
    "import numpy as np"
   ]
  },
  {
   "cell_type": "code",
   "execution_count": 4,
   "metadata": {},
   "outputs": [],
   "source": [
    "#1, 1\n",
    "with open(\"/cluster/projects/radiomics/Temp/sejin/slurm_logs/1553757-aaai_predict.out\", 'r') as f:\n",
    "    out = f.readlines()\n",
    "\n",
    "#1, 1\n",
    "with open(\"/cluster/projects/radiomics/Temp/sejin/slurm_logs/1555461-aaai_predict.out\", 'r') as f:\n",
    "    out.extend(f.readlines())\n",
    "\n",
    "#1, 2    \n",
    "with open(\"/cluster/projects/radiomics/Temp/sejin/slurm_logs/1555474-aaai_predict.out\", 'r') as f:\n",
    "    out.extend(f.readlines())"
   ]
  },
  {
   "cell_type": "code",
   "execution_count": 80,
   "metadata": {
    "scrolled": true
   },
   "outputs": [],
   "source": [
    "pred_idx = []\n",
    "for n, line in enumerate(out):\n",
    "    if 'now testing' in line:\n",
    "        pred_idx.append(n)\n",
    "\n",
    "timestamp_dict = {}\n",
    "for i in pred_idx:\n",
    "    if \"FAILED\" not in out[i+1]:\n",
    "        model_name = out[i].split(\"/\")[0][-17:]\n",
    "        timestamp  = out[i+97].split(\"]\")[-1]\n",
    "        if len(timestamp) < 14:\n",
    "            timestamp  = out[i+96].split(\"]\")[-1]\n",
    "        if len(timestamp) < 14:\n",
    "            timestamp  = out[i+129].split(\"]\")[-1]\n",
    "        timestamp_dict[timestamp.strip()] = model_name\n",
    "        "
   ]
  },
  {
   "cell_type": "code",
   "execution_count": 11,
   "metadata": {
    "scrolled": true
   },
   "outputs": [],
   "source": [
    "results = pd.read_csv(\"./data/predictions/test_results_with_names.csv\", index_col=-1)"
   ]
  },
  {
   "cell_type": "code",
   "execution_count": 12,
   "metadata": {},
   "outputs": [],
   "source": [
    "def best_ckpt (arr):\n",
    "    \"\"\"\n",
    "    Returns checkpoint with highest ROC_AUC or highest LOSS\n",
    "    \"\"\"\n",
    "    best_idx, best_epoch, best_loss, best_auc = 0, 0, 0, 0\n",
    "    \n",
    "    for idx, c in enumerate(arr):\n",
    "        epoch, loss, auc = c.split(\"/\")[-1].split(\"-\")\n",
    "        epoch = float(epoch.split(\"=\")[-1])\n",
    "        loss  = float(loss.split(\"=\")[-1])\n",
    "        auc   = float(auc.split(\"=\")[-1][:-5])\n",
    "        if auc > best_auc:\n",
    "            best_idx, best_epoch, best_loss, best_auc = idx, epoch, loss, auc\n",
    "        elif auc == best_auc:\n",
    "            if loss < best_loss:\n",
    "                best_idx, best_epoch, best_loss, best_auc = idx, epoch, loss, auc\n",
    "            elif loss == best_loss:\n",
    "                if epoch > best_epoch:\n",
    "                    best_idx, best_epoch, best_loss, best_auc = idx, epoch, loss, auc\n",
    "\n",
    "    return arr[best_idx]"
   ]
  },
  {
   "cell_type": "code",
   "execution_count": 79,
   "metadata": {
    "scrolled": true
   },
   "outputs": [
    {
     "name": "stdout",
     "output_type": "stream",
     "text": [
      "dual_mtlr_1550685 aaai_epoch=68-loss=2.01e+00-roc_auc=0.79.ckpt\n",
      "dual_mtlr_1550686 aaai_epoch=68-loss=2.01e+00-roc_auc=0.79.ckpt\n",
      "dual_mtlr_1550687 aaai_epoch=68-loss=2.01e+00-roc_auc=0.79.ckpt\n",
      "dual_mtlr_1550688 aaai_epoch=68-loss=2.02e+00-roc_auc=0.79.ckpt\n",
      "dual_mtlr_1550689 aaai_epoch=147-loss=2.01e+00-roc_auc=0.79.ckpt\n",
      "dual_mtlr_1550691 aaai_epoch=121-loss=2.14e+00-roc_auc=0.78.ckpt\n",
      "dual_mtlr_1550692 aaai_epoch=48-loss=2.04e+00-roc_auc=0.82.ckpt\n",
      "dual_mtlr_1550693 aaai_epoch=200-loss=1.92e+00-roc_auc=0.81.ckpt\n",
      "dual_mtlr_1550694 aaai_epoch=57-loss=2.02e+00-roc_auc=0.80.ckpt\n",
      "dual_mtlr_1550695 aaai_epoch=61-loss=2.08e+00-roc_auc=0.83.ckpt\n",
      "dual_mtlr_1550696 aaai_epoch=64-loss=2.28e+00-roc_auc=0.78.ckpt\n",
      "dual_mtlr_1550697 aaai_epoch=191-loss=2.22e+00-roc_auc=0.79.ckpt\n",
      "dual_mtlr_1553555 aaai_epoch=130-loss=1.98e+00-roc_auc=0.81.ckpt\n",
      "dual_mtlr_1553710 aaai_epoch=75-loss=1.97e+00-roc_auc=0.81.ckpt\n",
      "dual_mtlr_1553711 aaai_epoch=66-loss=2.00e+00-roc_auc=0.82.ckpt\n",
      "dual_mtlr_1553712 aaai_epoch=36-loss=1.81e+00-roc_auc=0.83.ckpt\n",
      "dual_mtlr_1553713 aaai_epoch=268-loss=2.09e+00-roc_auc=0.77.ckpt\n",
      "dual_mtlr_1553714 aaai_epoch=255-loss=2.08e+00-roc_auc=0.80.ckpt\n",
      "dual_mtlr_1553715 aaai_epoch=85-loss=1.97e+00-roc_auc=0.81.ckpt\n",
      "dual_mtlr_1553716 aaai_epoch=62-loss=1.90e+00-roc_auc=0.81.ckpt\n",
      "dual_mtlr_1553718 aaai_epoch=159-loss=2.03e+00-roc_auc=0.80.ckpt\n",
      "dual_mtlr_1553719 aaai_epoch=115-loss=1.95e+00-roc_auc=0.81.ckpt\n",
      "dual_mtlr_1553722 aaai_epoch=72-loss=1.98e+00-roc_auc=0.80.ckpt\n",
      "dual_mtlr_1553724 aaai_epoch=55-loss=2.04e+00-roc_auc=0.80.ckpt\n",
      "dual_mtlr_1553725 aaai_epoch=62-loss=1.88e+00-roc_auc=0.82.ckpt\n",
      "dual_mtlr_1553726 aaai_epoch=106-loss=1.93e+00-roc_auc=0.83.ckpt\n",
      "dual_mtlr_1553727 aaai_epoch=63-loss=2.04e+00-roc_auc=0.82.ckpt\n"
     ]
    }
   ],
   "source": [
    "# just looking at list of best models (models used for inference)\n",
    "\n",
    "models = sorted(glob.glob(\"/cluster/projects/radiomics/Temp/sejin/aaai21_survival_prediction/data/logs/aaai/dual_mtlr_155*\"))\n",
    "\n",
    "best_checkpoints = []\n",
    "for model in models:\n",
    "    ckpts = glob.glob(model+\"/checkpoints/*\")       \n",
    "    if len(ckpts) > 0:\n",
    "        print(model.split(\"/\")[-1], best_ckpt(ckpts).split(\"/\")[-1])\n"
   ]
  },
  {
   "cell_type": "code",
   "execution_count": 96,
   "metadata": {},
   "outputs": [],
   "source": [
    "one_layers  = [\"dual_mtlr_1550693\", \"dual_mtlr_1550694\", \"dual_mtlr_1550695\", \n",
    "               \"dual_mtlr_1550696\", \"dual_mtlr_1550697\", \"dual_mtlr_1553722\", \n",
    "               \"dual_mtlr_1553725\", \"dual_mtlr_1553726\", \"dual_mtlr_1553727\"]\n",
    "\n",
    "two_layers  = [\"dual_mtlr_1553555\", \"dual_mtlr_1553710\", \"dual_mtlr_1553711\", \n",
    "               \"dual_mtlr_1553713\", \"dual_mtlr_1553714\", \"dual_mtlr_1553715\", \n",
    "               \"dual_mtlr_1553716\", \"dual_mtlr_1553718\", \"dual_mtlr_1553719\"]"
   ]
  },
  {
   "cell_type": "code",
   "execution_count": 97,
   "metadata": {},
   "outputs": [],
   "source": [
    "def make_data(path, split=\"training\"):\n",
    "        \"\"\"Load and preprocess the data.\"\"\"\n",
    "        try:\n",
    "            df = pd.read_csv(path)\n",
    "        except:\n",
    "            df = path\n",
    "            \n",
    "        clinical_data = (df\n",
    "                         .query(\"split == @split\")\n",
    "                         #.set_index(\"Study ID\")\n",
    "                         .drop([\"split\"], axis=1, errors=\"ignore\"))\n",
    "#         if split == \"training\":\n",
    "        clinical_data = clinical_data.rename(columns={\"death\": \"event\", \"survival_time\": \"time\"})\n",
    "        # Convert time to months\n",
    "        clinical_data[\"time\"] *= 12\n",
    "\n",
    "        # binarize T stage as T1/2 = 0, T3/4 = 1\n",
    "        clinical_data[\"T Stage\"] = clinical_data[\"T Stage\"].map(\n",
    "            lambda x: \"T1/2\" if x in [\"T1\", \"T1a\", \"T1b\", \"T2\"] else \"T3/4\")\n",
    "\n",
    "        # use more fine-grained grouping for N stage\n",
    "        clinical_data[\"N Stage\"] = clinical_data[\"N Stage\"].map({\n",
    "                                                                \"N0\":  \"N0\",\n",
    "                                                                \"N1\":  \"N1\",\n",
    "                                                                \"N2\":  \"N2\",\n",
    "                                                                \"N2a\": \"N2\",\n",
    "                                                                \"N2b\": \"N2\",\n",
    "                                                                \"N2c\": \"N2\",\n",
    "                                                                \"N3\":  \"N3\",\n",
    "                                                                \"N3a\": \"N3\",\n",
    "                                                                \"N3b\": \"N3\"})\n",
    "        \n",
    "        clinical_data[\"Stage\"] = clinical_data[\"Stage\"].map(\n",
    "            lambda x: \"I/II\" if x in [\"I\", \"II\", \"IIA\"] else \"III/IV\")\n",
    "\n",
    "        clinical_data[\"ECOG\"] = clinical_data[\"ECOG\"].map(\n",
    "            lambda x: \">0\" if x > 0 else \"0\")\n",
    "\n",
    "        clinical_data = pd.get_dummies(clinical_data,\n",
    "                                       columns=[\"Sex\",\n",
    "                                                \"T Stage\",\n",
    "                                                \"N Stage\",\n",
    "                                                \"Disease Site\",\n",
    "                                                \"Stage\",\n",
    "                                                \"ECOG\"],\n",
    "                                       drop_first=True)\n",
    "        \n",
    "        clinical_data = pd.get_dummies(clinical_data, columns=[\"HPV Combined\"])\n",
    "        return clinical_data"
   ]
  },
  {
   "cell_type": "markdown",
   "metadata": {},
   "source": [
    "# ensemble predictions"
   ]
  },
  {
   "cell_type": "code",
   "execution_count": 98,
   "metadata": {},
   "outputs": [],
   "source": [
    "df1 = pd.read_csv(\"/cluster/projects/radiomics/RADCURE-challenge/clinical_cancer_death.csv\")\n",
    "df2 = pd.read_csv(\"/cluster/projects/radiomics/RADCURE-challenge/data/clinical_test.csv\")\n",
    "clinical_data = make_data(pd.merge(df1, df2[[\"Study ID\", \"ECOG\"]], how='inner', on='Study ID'), split=\"test\").drop(\"EGFRI\", axis=1)"
   ]
  },
  {
   "cell_type": "code",
   "execution_count": 99,
   "metadata": {},
   "outputs": [],
   "source": [
    "true_binary = clinical_data[\"target_binary\"]\n",
    "true_time   = clinical_data[\"time\"]\n",
    "true_event  = clinical_data[\"event\"]\n",
    "true_cancer = clinical_data[\"cancer_death\"]"
   ]
  },
  {
   "cell_type": "markdown",
   "metadata": {},
   "source": [
    "# CI + IBS"
   ]
  },
  {
   "cell_type": "code",
   "execution_count": 111,
   "metadata": {},
   "outputs": [],
   "source": [
    "from sklearn.metrics import roc_auc_score, average_precision_score, brier_score_loss\n",
    "from lifelines.utils import concordance_index"
   ]
  },
  {
   "cell_type": "code",
   "execution_count": 113,
   "metadata": {},
   "outputs": [],
   "source": [
    "df_one_risk_event  = pd.DataFrame(index = clinical_data[\"Study ID\"])\n",
    "df_one_risk_cancer = pd.DataFrame(index = clinical_data[\"Study ID\"])\n",
    "\n",
    "for ts in timestamp_dict.keys():\n",
    "    model_name  = timestamp_dict[ts]\n",
    "    if model_name in one_layers:\n",
    "        #print(model_name)\n",
    "        risk_pred  = np.load(f\"./data/predictions/{ts}_risk_pred.npy\")\n",
    "        df_one_risk_event[model_name]  = risk_pred[:,0]\n",
    "        df_one_risk_cancer[model_name] = risk_pred[:,1]\n",
    "        \n",
    "        #risk_pred   = np.load(f\"./data/predictions/{ts}_risk_pred.npy\")\n"
   ]
  },
  {
   "cell_type": "code",
   "execution_count": 117,
   "metadata": {},
   "outputs": [
    {
     "name": "stdout",
     "output_type": "stream",
     "text": [
      "Study ID\n",
      "RADCURE300     0.929297\n",
      "RADCURE301     1.805780\n",
      "RADCURE315     2.199147\n",
      "RADCURE320     1.975212\n",
      "RADCURE323     2.488345\n",
      "                 ...   \n",
      "RADCURE4105    1.330033\n",
      "RADCURE4108    1.976290\n",
      "RADCURE4113    2.497861\n",
      "RADCURE4116    3.058000\n",
      "RADCURE4123    2.759536\n",
      "Length: 750, dtype: float32 Study ID\n",
      "RADCURE300     1.136167\n",
      "RADCURE301     3.927481\n",
      "RADCURE315     2.011226\n",
      "RADCURE320     3.257865\n",
      "RADCURE323     6.007787\n",
      "                 ...   \n",
      "RADCURE4105    1.781037\n",
      "RADCURE4108    4.020158\n",
      "RADCURE4113    6.475862\n",
      "RADCURE4116    1.668721\n",
      "RADCURE4123    0.734108\n",
      "Length: 750, dtype: float32\n"
     ]
    },
    {
     "data": {
      "text/plain": [
       "(0.7264977397897948, 0.7759840710675447)"
      ]
     },
     "execution_count": 117,
     "metadata": {},
     "output_type": "execute_result"
    }
   ],
   "source": [
    "one_risk_event  = df_one_risk_event.mean(axis=1)\n",
    "one_risk_cancer = df_one_risk_cancer.mean(axis=1)\n",
    "\n",
    "ci_event   = concordance_index(true_time, -one_risk_event, event_observed=true_event)\n",
    "ci_cancer  = concordance_index(true_time, -one_risk_cancer, event_observed=true_cancer)\n",
    "#ibs_event  = brier_score_loss(true_event, one_risk_event)\n",
    "#ibs_cancer = brier_score_loss(true_cancer, one_risk_cancer)\n",
    "\n",
    "ci_event, ci_cancer#, ibs_event, ibs_cancer"
   ]
  },
  {
   "cell_type": "code",
   "execution_count": 120,
   "metadata": {},
   "outputs": [],
   "source": [
    "df_two_risk_event  = pd.DataFrame(index = clinical_data[\"Study ID\"])\n",
    "df_two_risk_cancer = pd.DataFrame(index = clinical_data[\"Study ID\"])\n",
    "\n",
    "for ts in timestamp_dict.keys():\n",
    "    model_name  = timestamp_dict[ts]\n",
    "    if model_name in two_layers:\n",
    "        #print(model_name)\n",
    "        risk_pred  = np.load(f\"./data/predictions/{ts}_risk_pred.npy\")\n",
    "        df_two_risk_event[model_name]  = risk_pred[:,0]\n",
    "        df_two_risk_cancer[model_name] = risk_pred[:,1]\n",
    "        \n",
    "        #risk_pred   = np.load(f\"./data/predictions/{ts}_risk_pred.npy\")\n"
   ]
  },
  {
   "cell_type": "code",
   "execution_count": 121,
   "metadata": {},
   "outputs": [
    {
     "data": {
      "text/plain": [
       "(0.7484492602438559, 0.7997855720631031)"
      ]
     },
     "execution_count": 121,
     "metadata": {},
     "output_type": "execute_result"
    }
   ],
   "source": [
    "two_risk_event  = df_two_risk_event.mean(axis=1)\n",
    "two_risk_cancer = df_two_risk_cancer.mean(axis=1)\n",
    "\n",
    "ci_event   = concordance_index(true_time, -two_risk_event, event_observed=true_event)\n",
    "ci_cancer  = concordance_index(true_time, -two_risk_cancer, event_observed=true_cancer)\n",
    "#ibs_event  = brier_score_loss(true_event, one_risk_event)\n",
    "#ibs_cancer = brier_score_loss(true_cancer, one_risk_cancer)\n",
    "\n",
    "ci_event, ci_cancer#, ibs_event, ibs_cancer"
   ]
  },
  {
   "cell_type": "markdown",
   "metadata": {},
   "source": [
    "# ROC_AUC (+ precision)"
   ]
  },
  {
   "cell_type": "markdown",
   "metadata": {},
   "source": [
    "## one dense"
   ]
  },
  {
   "cell_type": "code",
   "execution_count": 102,
   "metadata": {},
   "outputs": [
    {
     "name": "stdout",
     "output_type": "stream",
     "text": [
      "dual_mtlr_1550693\n",
      "dual_mtlr_1550694\n",
      "dual_mtlr_1550695\n",
      "dual_mtlr_1550696\n",
      "dual_mtlr_1550697\n",
      "dual_mtlr_1553722\n",
      "dual_mtlr_1553725\n",
      "dual_mtlr_1553726\n",
      "dual_mtlr_1553727\n"
     ]
    }
   ],
   "source": [
    "df_one_event  = pd.DataFrame(index = clinical_data[\"Study ID\"])\n",
    "df_one_cancer = pd.DataFrame(index = clinical_data[\"Study ID\"])\n",
    "\n",
    "for ts in timestamp_dict.keys():\n",
    "    model_name  = timestamp_dict[ts]\n",
    "    if model_name in one_layers:\n",
    "        print(model_name)\n",
    "        event_pred  = pd.read_csv(f\"./data/predictions/{ts}_event_pred.csv\", index_col=0, header=None)\n",
    "        cancer_pred = pd.read_csv(f\"./data/predictions/{ts}_cancer_pred.csv\", index_col=0, header=None)\n",
    "        \n",
    "        df_one_event[model_name]  = event_pred[1]\n",
    "        df_one_cancer[model_name] = cancer_pred[1]\n",
    "        \n",
    "        #risk_pred   = np.load(f\"./data/predictions/{ts}_risk_pred.npy\")\n"
   ]
  },
  {
   "cell_type": "code",
   "execution_count": 103,
   "metadata": {},
   "outputs": [
    {
     "data": {
      "text/plain": [
       "(0.755674341147562,\n",
       " 0.7642217380779472,\n",
       " 0.44114351290922404,\n",
       " 0.3282840802479536)"
      ]
     },
     "execution_count": 103,
     "metadata": {},
     "output_type": "execute_result"
    }
   ],
   "source": [
    "one_pred_event  = df_one_event.mean(axis=1).tolist()\n",
    "one_pred_cancer = df_one_cancer.mean(axis=1).tolist()\n",
    "\n",
    "roc_auc_event   = roc_auc_score(true_event, one_pred_event)\n",
    "roc_auc_cancer  = roc_auc_score(true_cancer, one_pred_cancer)\n",
    "avg_prec_event  = average_precision_score(true_event, one_pred_event)\n",
    "avg_prec_cancer = average_precision_score(true_cancer, one_pred_cancer)\n",
    "\n",
    "roc_auc_event, roc_auc_cancer, avg_prec_event, avg_prec_cancer"
   ]
  },
  {
   "cell_type": "code",
   "execution_count": 104,
   "metadata": {},
   "outputs": [
    {
     "data": {
      "text/plain": [
       "(0.7553016804667574,\n",
       " 0.7602805010893245,\n",
       " 0.44780834120199253,\n",
       " 0.3215777428060958)"
      ]
     },
     "execution_count": 104,
     "metadata": {},
     "output_type": "execute_result"
    }
   ],
   "source": [
    "one_pred_event  = df_one_event.median(axis=1).tolist()\n",
    "one_pred_cancer = df_one_cancer.median(axis=1).tolist()\n",
    "\n",
    "roc_auc_event   = roc_auc_score(true_event, one_pred_event)\n",
    "roc_auc_cancer  = roc_auc_score(true_cancer, one_pred_cancer)\n",
    "avg_prec_event  = average_precision_score(true_event, one_pred_event)\n",
    "avg_prec_cancer = average_precision_score(true_cancer, one_pred_cancer)\n",
    "\n",
    "roc_auc_event, roc_auc_cancer, avg_prec_event, avg_prec_cancer"
   ]
  },
  {
   "cell_type": "markdown",
   "metadata": {},
   "source": [
    "## two dense"
   ]
  },
  {
   "cell_type": "code",
   "execution_count": 105,
   "metadata": {},
   "outputs": [],
   "source": [
    "df_two_event  = pd.DataFrame(index = clinical_data[\"Study ID\"])\n",
    "df_two_cancer = pd.DataFrame(index = clinical_data[\"Study ID\"])\n",
    "\n",
    "for ts in timestamp_dict.keys():\n",
    "    model_name  = timestamp_dict[ts]\n",
    "    if model_name in two_layers:\n",
    "        #print(model_name)\n",
    "        event_pred  = pd.read_csv(f\"./data/predictions/{ts}_event_pred.csv\", index_col=0, header=None)\n",
    "        cancer_pred = pd.read_csv(f\"./data/predictions/{ts}_cancer_pred.csv\", index_col=0, header=None)\n",
    "        \n",
    "        df_two_event[model_name]  = event_pred[1]\n",
    "        df_two_cancer[model_name] = cancer_pred[1]\n",
    "        \n",
    "        #risk_pred   = np.load(f\"./data/predictions/{ts}_risk_pred.npy\")\n"
   ]
  },
  {
   "cell_type": "code",
   "execution_count": 106,
   "metadata": {},
   "outputs": [
    {
     "data": {
      "text/plain": [
       "(0.7769392912459678,\n",
       " 0.7883230452674896,\n",
       " 0.46042158857443766,\n",
       " 0.35532258331813427)"
      ]
     },
     "execution_count": 106,
     "metadata": {},
     "output_type": "execute_result"
    }
   ],
   "source": [
    "two_pred_event  = df_two_event.mean(axis=1).tolist()\n",
    "two_pred_cancer = df_two_cancer.mean(axis=1).tolist()\n",
    "\n",
    "roc_auc_event2   = roc_auc_score(true_event, two_pred_event)\n",
    "roc_auc_cancer2  = roc_auc_score(true_cancer, two_pred_cancer)\n",
    "avg_prec_event2  = average_precision_score(true_event, two_pred_event)\n",
    "avg_prec_cancer2 = average_precision_score(true_cancer, two_pred_cancer)\n",
    "\n",
    "roc_auc_event2, roc_auc_cancer2, avg_prec_event2, avg_prec_cancer2"
   ]
  },
  {
   "cell_type": "code",
   "execution_count": 107,
   "metadata": {},
   "outputs": [
    {
     "data": {
      "text/plain": [
       "(0.7759959938976813,\n",
       " 0.7865982812878236,\n",
       " 0.45395347199266994,\n",
       " 0.34486025431219147)"
      ]
     },
     "execution_count": 107,
     "metadata": {},
     "output_type": "execute_result"
    }
   ],
   "source": [
    "two_pred_event  = df_two_event.median(axis=1).tolist()\n",
    "two_pred_cancer = df_two_cancer.median(axis=1).tolist()\n",
    "\n",
    "roc_auc_event2   = roc_auc_score(true_event, two_pred_event)\n",
    "roc_auc_cancer2  = roc_auc_score(true_cancer, two_pred_cancer)\n",
    "avg_prec_event2  = average_precision_score(true_event, two_pred_event)\n",
    "avg_prec_cancer2 = average_precision_score(true_cancer, two_pred_cancer)\n",
    "\n",
    "roc_auc_event2, roc_auc_cancer2, avg_prec_event2, avg_prec_cancer2"
   ]
  }
 ],
 "metadata": {
  "kernelspec": {
   "display_name": "Python 3",
   "language": "python",
   "name": "python3"
  },
  "language_info": {
   "codemirror_mode": {
    "name": "ipython",
    "version": 3
   },
   "file_extension": ".py",
   "mimetype": "text/x-python",
   "name": "python",
   "nbconvert_exporter": "python",
   "pygments_lexer": "ipython3",
   "version": "3.8.5"
  }
 },
 "nbformat": 4,
 "nbformat_minor": 4
}
