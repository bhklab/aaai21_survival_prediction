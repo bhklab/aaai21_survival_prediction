{
 "cells": [
  {
   "cell_type": "code",
   "execution_count": 64,
   "metadata": {},
   "outputs": [],
   "source": [
    "from datetime import datetime as dt\n",
    "import pandas as pd\n",
    "import os"
   ]
  },
  {
   "cell_type": "code",
   "execution_count": 65,
   "metadata": {},
   "outputs": [],
   "source": [
    "save_path   = \"./data/predictions/\"\n",
    "time_now    = dt.now().strftime(\"%y%m%d_%H%M%S\")\n",
    "event_path  = os.path.join(save_path, time_now+\"_event_pred.csv\")"
   ]
  },
  {
   "cell_type": "code",
   "execution_count": 67,
   "metadata": {},
   "outputs": [
    {
     "data": {
      "text/plain": [
       "'./data/predictions/201028_032050_event_pred.csv'"
      ]
     },
     "execution_count": 67,
     "metadata": {},
     "output_type": "execute_result"
    }
   ],
   "source": [
    "event_path"
   ]
  },
  {
   "cell_type": "code",
   "execution_count": 71,
   "metadata": {},
   "outputs": [],
   "source": [
    "df = pd.DataFrame(columns=['loss', 'roc_auc_event', 'roc_auc_cancer', 'precision_event', 'precision_cancer', 'ci_event', 'ci_cancer'])"
   ]
  },
  {
   "cell_type": "code",
   "execution_count": 72,
   "metadata": {},
   "outputs": [
    {
     "data": {
      "text/html": [
       "<div>\n",
       "<style scoped>\n",
       "    .dataframe tbody tr th:only-of-type {\n",
       "        vertical-align: middle;\n",
       "    }\n",
       "\n",
       "    .dataframe tbody tr th {\n",
       "        vertical-align: top;\n",
       "    }\n",
       "\n",
       "    .dataframe thead th {\n",
       "        text-align: right;\n",
       "    }\n",
       "</style>\n",
       "<table border=\"1\" class=\"dataframe\">\n",
       "  <thead>\n",
       "    <tr style=\"text-align: right;\">\n",
       "      <th></th>\n",
       "      <th>loss</th>\n",
       "      <th>roc_auc_event</th>\n",
       "      <th>roc_auc_cancer</th>\n",
       "      <th>precision_event</th>\n",
       "      <th>precision_cancer</th>\n",
       "      <th>ci_event</th>\n",
       "      <th>ci_cancer</th>\n",
       "    </tr>\n",
       "  </thead>\n",
       "  <tbody>\n",
       "    <tr>\n",
       "      <th>test</th>\n",
       "      <td>0.0</td>\n",
       "      <td>0.0</td>\n",
       "      <td>0.0</td>\n",
       "      <td>0.0</td>\n",
       "      <td>0.0</td>\n",
       "      <td>0.0</td>\n",
       "      <td>0.0</td>\n",
       "    </tr>\n",
       "  </tbody>\n",
       "</table>\n",
       "</div>"
      ],
      "text/plain": [
       "      loss  roc_auc_event  roc_auc_cancer  precision_event  precision_cancer  \\\n",
       "test   0.0            0.0             0.0              0.0               0.0   \n",
       "\n",
       "      ci_event  ci_cancer  \n",
       "test       0.0        0.0  "
      ]
     },
     "execution_count": 72,
     "metadata": {},
     "output_type": "execute_result"
    }
   ],
   "source": [
    "df.loc['test'] = [0., 0., 0., 0., 0., 0., 0.]\n",
    "df"
   ]
  },
  {
   "cell_type": "code",
   "execution_count": 73,
   "metadata": {},
   "outputs": [],
   "source": [
    "df.to_csv(\"./data/predictions/test_results.csv\")"
   ]
  },
  {
   "cell_type": "code",
   "execution_count": 81,
   "metadata": {},
   "outputs": [],
   "source": [
    "import pandas as pd\n",
    "import numpy as np\n",
    "import torchmtlr as tm"
   ]
  },
  {
   "cell_type": "code",
   "execution_count": 75,
   "metadata": {},
   "outputs": [],
   "source": [
    "import glob\n",
    "import os"
   ]
  },
  {
   "cell_type": "code",
   "execution_count": 80,
   "metadata": {},
   "outputs": [
    {
     "data": {
      "text/plain": [
       "['/cluster/projects/radiomics/Temp/sejin/aaai21_survival_prediction/data/logs/aaai/dual_mtlr_1550685',\n",
       " '/cluster/projects/radiomics/Temp/sejin/aaai21_survival_prediction/data/logs/aaai/dual_mtlr_1550686',\n",
       " '/cluster/projects/radiomics/Temp/sejin/aaai21_survival_prediction/data/logs/aaai/dual_mtlr_1550687',\n",
       " '/cluster/projects/radiomics/Temp/sejin/aaai21_survival_prediction/data/logs/aaai/dual_mtlr_1550688',\n",
       " '/cluster/projects/radiomics/Temp/sejin/aaai21_survival_prediction/data/logs/aaai/dual_mtlr_1550689',\n",
       " '/cluster/projects/radiomics/Temp/sejin/aaai21_survival_prediction/data/logs/aaai/dual_mtlr_1550691',\n",
       " '/cluster/projects/radiomics/Temp/sejin/aaai21_survival_prediction/data/logs/aaai/dual_mtlr_1550692',\n",
       " '/cluster/projects/radiomics/Temp/sejin/aaai21_survival_prediction/data/logs/aaai/dual_mtlr_1550693',\n",
       " '/cluster/projects/radiomics/Temp/sejin/aaai21_survival_prediction/data/logs/aaai/dual_mtlr_1550694',\n",
       " '/cluster/projects/radiomics/Temp/sejin/aaai21_survival_prediction/data/logs/aaai/dual_mtlr_1550695',\n",
       " '/cluster/projects/radiomics/Temp/sejin/aaai21_survival_prediction/data/logs/aaai/dual_mtlr_1550696',\n",
       " '/cluster/projects/radiomics/Temp/sejin/aaai21_survival_prediction/data/logs/aaai/dual_mtlr_1550697',\n",
       " '/cluster/projects/radiomics/Temp/sejin/aaai21_survival_prediction/data/logs/aaai/dual_mtlr_1553553',\n",
       " '/cluster/projects/radiomics/Temp/sejin/aaai21_survival_prediction/data/logs/aaai/dual_mtlr_1553554',\n",
       " '/cluster/projects/radiomics/Temp/sejin/aaai21_survival_prediction/data/logs/aaai/dual_mtlr_1553555',\n",
       " '/cluster/projects/radiomics/Temp/sejin/aaai21_survival_prediction/data/logs/aaai/dual_mtlr_1553700',\n",
       " '/cluster/projects/radiomics/Temp/sejin/aaai21_survival_prediction/data/logs/aaai/dual_mtlr_1553701',\n",
       " '/cluster/projects/radiomics/Temp/sejin/aaai21_survival_prediction/data/logs/aaai/dual_mtlr_1553702',\n",
       " '/cluster/projects/radiomics/Temp/sejin/aaai21_survival_prediction/data/logs/aaai/dual_mtlr_1553703',\n",
       " '/cluster/projects/radiomics/Temp/sejin/aaai21_survival_prediction/data/logs/aaai/dual_mtlr_1553710',\n",
       " '/cluster/projects/radiomics/Temp/sejin/aaai21_survival_prediction/data/logs/aaai/dual_mtlr_1553711',\n",
       " '/cluster/projects/radiomics/Temp/sejin/aaai21_survival_prediction/data/logs/aaai/dual_mtlr_1553712',\n",
       " '/cluster/projects/radiomics/Temp/sejin/aaai21_survival_prediction/data/logs/aaai/dual_mtlr_1553713',\n",
       " '/cluster/projects/radiomics/Temp/sejin/aaai21_survival_prediction/data/logs/aaai/dual_mtlr_1553714',\n",
       " '/cluster/projects/radiomics/Temp/sejin/aaai21_survival_prediction/data/logs/aaai/dual_mtlr_1553715',\n",
       " '/cluster/projects/radiomics/Temp/sejin/aaai21_survival_prediction/data/logs/aaai/dual_mtlr_1553716',\n",
       " '/cluster/projects/radiomics/Temp/sejin/aaai21_survival_prediction/data/logs/aaai/dual_mtlr_1553718',\n",
       " '/cluster/projects/radiomics/Temp/sejin/aaai21_survival_prediction/data/logs/aaai/dual_mtlr_1553719',\n",
       " '/cluster/projects/radiomics/Temp/sejin/aaai21_survival_prediction/data/logs/aaai/dual_mtlr_1553722',\n",
       " '/cluster/projects/radiomics/Temp/sejin/aaai21_survival_prediction/data/logs/aaai/dual_mtlr_1553724',\n",
       " '/cluster/projects/radiomics/Temp/sejin/aaai21_survival_prediction/data/logs/aaai/dual_mtlr_1553725',\n",
       " '/cluster/projects/radiomics/Temp/sejin/aaai21_survival_prediction/data/logs/aaai/dual_mtlr_1553726',\n",
       " '/cluster/projects/radiomics/Temp/sejin/aaai21_survival_prediction/data/logs/aaai/dual_mtlr_1553727']"
      ]
     },
     "execution_count": 80,
     "metadata": {},
     "output_type": "execute_result"
    }
   ],
   "source": [
    "models = sorted(glob.glob(\"/cluster/projects/radiomics/Temp/sejin/aaai21_survival_prediction/data/logs/aaai/dual_mtlr_155*\"))\n",
    "models"
   ]
  },
  {
   "cell_type": "code",
   "execution_count": null,
   "metadata": {},
   "outputs": [],
   "source": [
    "['/cluster/projects/radiomics/Temp/sejin/aaai21_survival_prediction/data/logs/aaai/dual_mtlr_1550685',\n",
    " '/cluster/projects/radiomics/Temp/sejin/aaai21_survival_prediction/data/logs/aaai/dual_mtlr_1550686',\n",
    " '/cluster/projects/radiomics/Temp/sejin/aaai21_survival_prediction/data/logs/aaai/dual_mtlr_1550687',\n",
    " '/cluster/projects/radiomics/Temp/sejin/aaai21_survival_prediction/data/logs/aaai/dual_mtlr_1550688',\n",
    " '/cluster/projects/radiomics/Temp/sejin/aaai21_survival_prediction/data/logs/aaai/dual_mtlr_1550689',\n",
    " '/cluster/projects/radiomics/Temp/sejin/aaai21_survival_prediction/data/logs/aaai/dual_mtlr_1550691']"
   ]
  },
  {
   "cell_type": "code",
   "execution_count": 50,
   "metadata": {},
   "outputs": [],
   "source": [
    "def best_ckpt (arr):\n",
    "    \"\"\"\n",
    "    Returns checkpoint with highest ROC_AUC or highest LOSS\n",
    "    \"\"\"\n",
    "    best_idx, best_epoch, best_loss, best_auc = 0, 0, 0, 0\n",
    "    \n",
    "    for idx, c in enumerate(ckpts):\n",
    "        epoch, loss, auc = c.split(\"/\")[-1].split(\"-\")\n",
    "        epoch = float(epoch.split(\"=\")[-1])\n",
    "        loss  = float(loss.split(\"=\")[-1])\n",
    "        auc   = float(auc.split(\"=\")[-1][:-5])\n",
    "        if auc > best_auc:\n",
    "            best_idx, best_epoch, best_loss, best_auc = idx, epoch, loss, auc\n",
    "        elif auc == best_auc:\n",
    "            if loss < best_loss:\n",
    "                best_idx, best_epoch, best_loss, best_auc = idx, epoch, loss, auc\n",
    "            elif loss == best_loss:\n",
    "                if epoch > best_epoch:\n",
    "                    best_idx, best_epoch, best_loss, best_auc = idx, epoch, loss, auc\n",
    "        #print(ckpts[best_idx])\n",
    "    return ckpts[best_idx]"
   ]
  },
  {
   "cell_type": "code",
   "execution_count": 53,
   "metadata": {},
   "outputs": [],
   "source": [
    "best_checkpoints = []\n",
    "for model in models:\n",
    "    ckpts = glob.glob(model+\"/checkpoints/*\")       \n",
    "    best_checkpoints.append(best_ckpt(ckpts))"
   ]
  },
  {
   "cell_type": "code",
   "execution_count": 55,
   "metadata": {},
   "outputs": [
    {
     "data": {
      "text/plain": [
       "81"
      ]
     },
     "execution_count": 55,
     "metadata": {},
     "output_type": "execute_result"
    }
   ],
   "source": [
    "len(\"/cluster/projects/radiomics/Temp/sejin/aaai21_survival_prediction/data/logs/aaai/\")"
   ]
  },
  {
   "cell_type": "code",
   "execution_count": 56,
   "metadata": {},
   "outputs": [
    {
     "data": {
      "text/plain": [
       "['dual_mtlr_1550685/checkpoints/aaai_epoch=68-loss=2.01e+00-roc_auc=0.79.ckpt',\n",
       " 'dual_mtlr_1550686/checkpoints/aaai_epoch=68-loss=2.01e+00-roc_auc=0.79.ckpt',\n",
       " 'dual_mtlr_1550687/checkpoints/aaai_epoch=68-loss=2.01e+00-roc_auc=0.79.ckpt',\n",
       " 'dual_mtlr_1550688/checkpoints/aaai_epoch=68-loss=2.02e+00-roc_auc=0.79.ckpt',\n",
       " 'dual_mtlr_1550689/checkpoints/aaai_epoch=147-loss=2.01e+00-roc_auc=0.79.ckpt',\n",
       " 'dual_mtlr_1550691/checkpoints/aaai_epoch=121-loss=2.14e+00-roc_auc=0.78.ckpt',\n",
       " 'dual_mtlr_1550692/checkpoints/aaai_epoch=48-loss=2.04e+00-roc_auc=0.82.ckpt',\n",
       " 'dual_mtlr_1550693/checkpoints/aaai_epoch=200-loss=1.92e+00-roc_auc=0.81.ckpt',\n",
       " 'dual_mtlr_1550694/checkpoints/aaai_epoch=57-loss=2.02e+00-roc_auc=0.80.ckpt',\n",
       " 'dual_mtlr_1550695/checkpoints/aaai_epoch=61-loss=2.08e+00-roc_auc=0.83.ckpt',\n",
       " 'dual_mtlr_1550696/checkpoints/aaai_epoch=64-loss=2.28e+00-roc_auc=0.78.ckpt',\n",
       " 'dual_mtlr_1550697/checkpoints/aaai_epoch=191-loss=2.22e+00-roc_auc=0.79.ckpt']"
      ]
     },
     "execution_count": 56,
     "metadata": {},
     "output_type": "execute_result"
    }
   ],
   "source": [
    "[s[81:] for s in best_checkpoints]"
   ]
  },
  {
   "cell_type": "code",
   "execution_count": 8,
   "metadata": {},
   "outputs": [
    {
     "data": {
      "text/plain": [
       "['data/predictions/baseline_cnn.csv.npy',\n",
       " 'data/predictions/baseline_cnn.csvidx.npy']"
      ]
     },
     "execution_count": 8,
     "metadata": {},
     "output_type": "execute_result"
    }
   ],
   "source": [
    "arrs = glob.glob('data/predictions/*.npy')\n",
    "arrs"
   ]
  },
  {
   "cell_type": "code",
   "execution_count": 10,
   "metadata": {},
   "outputs": [
    {
     "data": {
      "text/plain": [
       "(750, 29)"
      ]
     },
     "execution_count": 10,
     "metadata": {},
     "output_type": "execute_result"
    }
   ],
   "source": [
    "m = np.load(arrs[0])\n",
    "m.shape"
   ]
  },
  {
   "cell_type": "code",
   "execution_count": 16,
   "metadata": {},
   "outputs": [],
   "source": [
    "import torch"
   ]
  },
  {
   "cell_type": "code",
   "execution_count": 21,
   "metadata": {},
   "outputs": [
    {
     "data": {
      "text/plain": [
       "torch.Size([750, 29])"
      ]
     },
     "execution_count": 21,
     "metadata": {},
     "output_type": "execute_result"
    }
   ],
   "source": [
    "tm.mtlr_survival(torch.Tensor(m)).shape"
   ]
  },
  {
   "cell_type": "code",
   "execution_count": null,
   "metadata": {},
   "outputs": [],
   "source": []
  }
 ],
 "metadata": {
  "kernelspec": {
   "display_name": "Python 3",
   "language": "python",
   "name": "python3"
  },
  "language_info": {
   "codemirror_mode": {
    "name": "ipython",
    "version": 3
   },
   "file_extension": ".py",
   "mimetype": "text/x-python",
   "name": "python",
   "nbconvert_exporter": "python",
   "pygments_lexer": "ipython3",
   "version": "3.8.5"
  }
 },
 "nbformat": 4,
 "nbformat_minor": 4
}
