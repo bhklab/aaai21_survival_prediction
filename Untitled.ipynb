{
 "cells": [
  {
   "cell_type": "code",
   "execution_count": 1,
   "metadata": {},
   "outputs": [],
   "source": [
    "from datetime import datetime as dt\n",
    "import pandas as pd\n",
    "import os"
   ]
  },
  {
   "cell_type": "code",
   "execution_count": 10,
   "metadata": {},
   "outputs": [],
   "source": [
    "df1 = pd.read_csv(\"/cluster/projects/radiomics/RADCURE-challenge/clinical_cancer_death.csv\")\n",
    "df2 = pd.read_csv(\"/cluster/projects/radiomics/RADCURE-challenge/data/clinical_test.csv\")"
   ]
  },
  {
   "cell_type": "code",
   "execution_count": 11,
   "metadata": {},
   "outputs": [
    {
     "data": {
      "text/html": [
       "<div>\n",
       "<style scoped>\n",
       "    .dataframe tbody tr th:only-of-type {\n",
       "        vertical-align: middle;\n",
       "    }\n",
       "\n",
       "    .dataframe tbody tr th {\n",
       "        vertical-align: top;\n",
       "    }\n",
       "\n",
       "    .dataframe thead th {\n",
       "        text-align: right;\n",
       "    }\n",
       "</style>\n",
       "<table border=\"1\" class=\"dataframe\">\n",
       "  <thead>\n",
       "    <tr style=\"text-align: right;\">\n",
       "      <th></th>\n",
       "      <th>Study ID</th>\n",
       "      <th>split</th>\n",
       "      <th>target_binary</th>\n",
       "      <th>survival_time</th>\n",
       "      <th>death</th>\n",
       "      <th>age at dx</th>\n",
       "      <th>Sex</th>\n",
       "      <th>T Stage</th>\n",
       "      <th>N Stage</th>\n",
       "      <th>Stage</th>\n",
       "      <th>Dose</th>\n",
       "      <th>Chemotherapy</th>\n",
       "      <th>HPV Combined</th>\n",
       "      <th>Disease Site</th>\n",
       "      <th>cancer_death</th>\n",
       "      <th>ECOG</th>\n",
       "    </tr>\n",
       "  </thead>\n",
       "  <tbody>\n",
       "    <tr>\n",
       "      <th>0</th>\n",
       "      <td>RADCURE300</td>\n",
       "      <td>test</td>\n",
       "      <td>0</td>\n",
       "      <td>4.671233</td>\n",
       "      <td>0</td>\n",
       "      <td>60.0</td>\n",
       "      <td>Male</td>\n",
       "      <td>T1</td>\n",
       "      <td>N2b</td>\n",
       "      <td>IVA</td>\n",
       "      <td>70.0</td>\n",
       "      <td>0</td>\n",
       "      <td>1.0</td>\n",
       "      <td>oropharynx</td>\n",
       "      <td>0</td>\n",
       "      <td>1.0</td>\n",
       "    </tr>\n",
       "    <tr>\n",
       "      <th>1</th>\n",
       "      <td>RADCURE301</td>\n",
       "      <td>test</td>\n",
       "      <td>0</td>\n",
       "      <td>4.306849</td>\n",
       "      <td>0</td>\n",
       "      <td>47.5</td>\n",
       "      <td>Male</td>\n",
       "      <td>T3</td>\n",
       "      <td>N2b</td>\n",
       "      <td>IVA</td>\n",
       "      <td>70.0</td>\n",
       "      <td>1</td>\n",
       "      <td>1.0</td>\n",
       "      <td>oropharynx</td>\n",
       "      <td>0</td>\n",
       "      <td>0.0</td>\n",
       "    </tr>\n",
       "    <tr>\n",
       "      <th>2</th>\n",
       "      <td>RADCURE315</td>\n",
       "      <td>test</td>\n",
       "      <td>0</td>\n",
       "      <td>4.810959</td>\n",
       "      <td>0</td>\n",
       "      <td>69.2</td>\n",
       "      <td>Male</td>\n",
       "      <td>T3</td>\n",
       "      <td>N1</td>\n",
       "      <td>III</td>\n",
       "      <td>70.0</td>\n",
       "      <td>0</td>\n",
       "      <td>1.0</td>\n",
       "      <td>oropharynx</td>\n",
       "      <td>0</td>\n",
       "      <td>0.0</td>\n",
       "    </tr>\n",
       "    <tr>\n",
       "      <th>3</th>\n",
       "      <td>RADCURE320</td>\n",
       "      <td>test</td>\n",
       "      <td>0</td>\n",
       "      <td>5.920548</td>\n",
       "      <td>0</td>\n",
       "      <td>51.5</td>\n",
       "      <td>Male</td>\n",
       "      <td>T2</td>\n",
       "      <td>N0</td>\n",
       "      <td>II</td>\n",
       "      <td>70.0</td>\n",
       "      <td>0</td>\n",
       "      <td>0.0</td>\n",
       "      <td>oropharynx</td>\n",
       "      <td>0</td>\n",
       "      <td>0.0</td>\n",
       "    </tr>\n",
       "    <tr>\n",
       "      <th>4</th>\n",
       "      <td>RADCURE323</td>\n",
       "      <td>test</td>\n",
       "      <td>0</td>\n",
       "      <td>4.180822</td>\n",
       "      <td>0</td>\n",
       "      <td>49.3</td>\n",
       "      <td>Male</td>\n",
       "      <td>T3</td>\n",
       "      <td>N2c</td>\n",
       "      <td>IVA</td>\n",
       "      <td>70.0</td>\n",
       "      <td>1</td>\n",
       "      <td>0.0</td>\n",
       "      <td>larynx</td>\n",
       "      <td>0</td>\n",
       "      <td>0.0</td>\n",
       "    </tr>\n",
       "    <tr>\n",
       "      <th>...</th>\n",
       "      <td>...</td>\n",
       "      <td>...</td>\n",
       "      <td>...</td>\n",
       "      <td>...</td>\n",
       "      <td>...</td>\n",
       "      <td>...</td>\n",
       "      <td>...</td>\n",
       "      <td>...</td>\n",
       "      <td>...</td>\n",
       "      <td>...</td>\n",
       "      <td>...</td>\n",
       "      <td>...</td>\n",
       "      <td>...</td>\n",
       "      <td>...</td>\n",
       "      <td>...</td>\n",
       "      <td>...</td>\n",
       "    </tr>\n",
       "    <tr>\n",
       "      <th>745</th>\n",
       "      <td>RADCURE4105</td>\n",
       "      <td>test</td>\n",
       "      <td>0</td>\n",
       "      <td>2.230137</td>\n",
       "      <td>1</td>\n",
       "      <td>60.3</td>\n",
       "      <td>Male</td>\n",
       "      <td>T3</td>\n",
       "      <td>N2c</td>\n",
       "      <td>IVA</td>\n",
       "      <td>70.0</td>\n",
       "      <td>1</td>\n",
       "      <td>1.0</td>\n",
       "      <td>oropharynx</td>\n",
       "      <td>1</td>\n",
       "      <td>0.0</td>\n",
       "    </tr>\n",
       "    <tr>\n",
       "      <th>746</th>\n",
       "      <td>RADCURE4108</td>\n",
       "      <td>test</td>\n",
       "      <td>0</td>\n",
       "      <td>2.915068</td>\n",
       "      <td>0</td>\n",
       "      <td>31.9</td>\n",
       "      <td>Female</td>\n",
       "      <td>T4a</td>\n",
       "      <td>N0</td>\n",
       "      <td>IVA</td>\n",
       "      <td>70.0</td>\n",
       "      <td>1</td>\n",
       "      <td>0.0</td>\n",
       "      <td>oropharynx</td>\n",
       "      <td>0</td>\n",
       "      <td>0.0</td>\n",
       "    </tr>\n",
       "    <tr>\n",
       "      <th>747</th>\n",
       "      <td>RADCURE4113</td>\n",
       "      <td>test</td>\n",
       "      <td>0</td>\n",
       "      <td>2.084932</td>\n",
       "      <td>0</td>\n",
       "      <td>45.9</td>\n",
       "      <td>Male</td>\n",
       "      <td>T4a</td>\n",
       "      <td>N2b</td>\n",
       "      <td>IVA</td>\n",
       "      <td>70.0</td>\n",
       "      <td>1</td>\n",
       "      <td>1.0</td>\n",
       "      <td>oropharynx</td>\n",
       "      <td>0</td>\n",
       "      <td>2.0</td>\n",
       "    </tr>\n",
       "    <tr>\n",
       "      <th>748</th>\n",
       "      <td>RADCURE4116</td>\n",
       "      <td>test</td>\n",
       "      <td>0</td>\n",
       "      <td>5.408219</td>\n",
       "      <td>0</td>\n",
       "      <td>63.3</td>\n",
       "      <td>Male</td>\n",
       "      <td>T1a</td>\n",
       "      <td>N0</td>\n",
       "      <td>I</td>\n",
       "      <td>66.0</td>\n",
       "      <td>0</td>\n",
       "      <td>NaN</td>\n",
       "      <td>larynx</td>\n",
       "      <td>0</td>\n",
       "      <td>0.0</td>\n",
       "    </tr>\n",
       "    <tr>\n",
       "      <th>749</th>\n",
       "      <td>RADCURE4123</td>\n",
       "      <td>test</td>\n",
       "      <td>0</td>\n",
       "      <td>4.216438</td>\n",
       "      <td>0</td>\n",
       "      <td>60.4</td>\n",
       "      <td>Male</td>\n",
       "      <td>T1a</td>\n",
       "      <td>N0</td>\n",
       "      <td>I</td>\n",
       "      <td>51.0</td>\n",
       "      <td>0</td>\n",
       "      <td>0.0</td>\n",
       "      <td>larynx</td>\n",
       "      <td>0</td>\n",
       "      <td>0.0</td>\n",
       "    </tr>\n",
       "  </tbody>\n",
       "</table>\n",
       "<p>750 rows × 16 columns</p>\n",
       "</div>"
      ],
      "text/plain": [
       "        Study ID split  target_binary  survival_time  death  age at dx  \\\n",
       "0     RADCURE300  test              0       4.671233      0       60.0   \n",
       "1     RADCURE301  test              0       4.306849      0       47.5   \n",
       "2     RADCURE315  test              0       4.810959      0       69.2   \n",
       "3     RADCURE320  test              0       5.920548      0       51.5   \n",
       "4     RADCURE323  test              0       4.180822      0       49.3   \n",
       "..           ...   ...            ...            ...    ...        ...   \n",
       "745  RADCURE4105  test              0       2.230137      1       60.3   \n",
       "746  RADCURE4108  test              0       2.915068      0       31.9   \n",
       "747  RADCURE4113  test              0       2.084932      0       45.9   \n",
       "748  RADCURE4116  test              0       5.408219      0       63.3   \n",
       "749  RADCURE4123  test              0       4.216438      0       60.4   \n",
       "\n",
       "        Sex T Stage N Stage Stage  Dose  Chemotherapy  HPV Combined  \\\n",
       "0      Male      T1     N2b   IVA  70.0             0           1.0   \n",
       "1      Male      T3     N2b   IVA  70.0             1           1.0   \n",
       "2      Male      T3      N1   III  70.0             0           1.0   \n",
       "3      Male      T2      N0    II  70.0             0           0.0   \n",
       "4      Male      T3     N2c   IVA  70.0             1           0.0   \n",
       "..      ...     ...     ...   ...   ...           ...           ...   \n",
       "745    Male      T3     N2c   IVA  70.0             1           1.0   \n",
       "746  Female     T4a      N0   IVA  70.0             1           0.0   \n",
       "747    Male     T4a     N2b   IVA  70.0             1           1.0   \n",
       "748    Male     T1a      N0     I  66.0             0           NaN   \n",
       "749    Male     T1a      N0     I  51.0             0           0.0   \n",
       "\n",
       "    Disease Site  cancer_death  ECOG  \n",
       "0     oropharynx             0   1.0  \n",
       "1     oropharynx             0   0.0  \n",
       "2     oropharynx             0   0.0  \n",
       "3     oropharynx             0   0.0  \n",
       "4         larynx             0   0.0  \n",
       "..           ...           ...   ...  \n",
       "745   oropharynx             1   0.0  \n",
       "746   oropharynx             0   0.0  \n",
       "747   oropharynx             0   2.0  \n",
       "748       larynx             0   0.0  \n",
       "749       larynx             0   0.0  \n",
       "\n",
       "[750 rows x 16 columns]"
      ]
     },
     "execution_count": 11,
     "metadata": {},
     "output_type": "execute_result"
    }
   ],
   "source": [
    "pd.merge(df1, df2[[\"Study ID\", \"ECOG\"]], how='inner', on='Study ID').drop(\"EGFRI\", axis=1)"
   ]
  },
  {
   "cell_type": "code",
   "execution_count": 3,
   "metadata": {},
   "outputs": [
    {
     "data": {
      "text/plain": [
       "(     Study ID     split  target_binary  survival_time  death  age at dx  \\\n",
       " 0  RADCURE300      test              0       4.671233      0       60.0   \n",
       " 1  RADCURE301      test              0       4.306849      0       47.5   \n",
       " 2  RADCURE303  training              0       6.038356      0       66.7   \n",
       " 3  RADCURE304  training              0       5.800000      0       68.4   \n",
       " 4  RADCURE305  training              0       9.172603      0       49.7   \n",
       " \n",
       "       Sex T Stage N Stage Stage  Dose  Chemotherapy  EGFRI  HPV Combined  \\\n",
       " 0    Male      T1     N2b   IVA  70.0             0      0           1.0   \n",
       " 1    Male      T3     N2b   IVA  70.0             1      0           1.0   \n",
       " 2    Male      T3      N0   III  70.0             0      0           NaN   \n",
       " 3  Female      T2     N2b   IVA  70.0             0      1           NaN   \n",
       " 4  Female      T1      N2   III  70.0             1      0           NaN   \n",
       " \n",
       "   Disease Site  cancer_death  \n",
       " 0   oropharynx             0  \n",
       " 1   oropharynx             0  \n",
       " 2       larynx             0  \n",
       " 3  hypopharynx             0  \n",
       " 4  nasopharynx             0  ,\n",
       "      Study ID split  age at dx   Sex T Stage N Stage Stage  Dose  \\\n",
       " 0  RADCURE300  test       60.0  Male      T1     N2b   IVA  70.0   \n",
       " 1  RADCURE301  test       47.5  Male      T3     N2b   IVA  70.0   \n",
       " 2  RADCURE315  test       69.2  Male      T3      N1   III  70.0   \n",
       " 3  RADCURE320  test       51.5  Male      T2      N0    II  70.0   \n",
       " 4  RADCURE323  test       49.3  Male      T3     N2c   IVA  70.0   \n",
       " \n",
       "    Chemotherapy  HPV Combined Disease Site  ECOG  \n",
       " 0             0           1.0   oropharynx   1.0  \n",
       " 1             1           1.0   oropharynx   0.0  \n",
       " 2             0           1.0   oropharynx   0.0  \n",
       " 3             0           0.0   oropharynx   0.0  \n",
       " 4             1           0.0       larynx   0.0  )"
      ]
     },
     "execution_count": 3,
     "metadata": {},
     "output_type": "execute_result"
    }
   ],
   "source": [
    "df1.head(), df2.head()"
   ]
  },
  {
   "cell_type": "code",
   "execution_count": 65,
   "metadata": {},
   "outputs": [],
   "source": [
    "save_path   = \"./data/predictions/\"\n",
    "time_now    = dt.now().strftime(\"%y%m%d_%H%M%S\")\n",
    "event_path  = os.path.join(save_path, time_now+\"_event_pred.csv\")"
   ]
  },
  {
   "cell_type": "code",
   "execution_count": 67,
   "metadata": {},
   "outputs": [
    {
     "data": {
      "text/plain": [
       "'./data/predictions/201028_032050_event_pred.csv'"
      ]
     },
     "execution_count": 67,
     "metadata": {},
     "output_type": "execute_result"
    }
   ],
   "source": [
    "event_path"
   ]
  },
  {
   "cell_type": "code",
   "execution_count": 71,
   "metadata": {},
   "outputs": [],
   "source": [
    "df = pd.DataFrame(columns=['loss', 'roc_auc_event', 'roc_auc_cancer', 'precision_event', 'precision_cancer', 'ci_event', 'ci_cancer'])"
   ]
  },
  {
   "cell_type": "code",
   "execution_count": 72,
   "metadata": {},
   "outputs": [
    {
     "data": {
      "text/html": [
       "<div>\n",
       "<style scoped>\n",
       "    .dataframe tbody tr th:only-of-type {\n",
       "        vertical-align: middle;\n",
       "    }\n",
       "\n",
       "    .dataframe tbody tr th {\n",
       "        vertical-align: top;\n",
       "    }\n",
       "\n",
       "    .dataframe thead th {\n",
       "        text-align: right;\n",
       "    }\n",
       "</style>\n",
       "<table border=\"1\" class=\"dataframe\">\n",
       "  <thead>\n",
       "    <tr style=\"text-align: right;\">\n",
       "      <th></th>\n",
       "      <th>loss</th>\n",
       "      <th>roc_auc_event</th>\n",
       "      <th>roc_auc_cancer</th>\n",
       "      <th>precision_event</th>\n",
       "      <th>precision_cancer</th>\n",
       "      <th>ci_event</th>\n",
       "      <th>ci_cancer</th>\n",
       "    </tr>\n",
       "  </thead>\n",
       "  <tbody>\n",
       "    <tr>\n",
       "      <th>test</th>\n",
       "      <td>0.0</td>\n",
       "      <td>0.0</td>\n",
       "      <td>0.0</td>\n",
       "      <td>0.0</td>\n",
       "      <td>0.0</td>\n",
       "      <td>0.0</td>\n",
       "      <td>0.0</td>\n",
       "    </tr>\n",
       "  </tbody>\n",
       "</table>\n",
       "</div>"
      ],
      "text/plain": [
       "      loss  roc_auc_event  roc_auc_cancer  precision_event  precision_cancer  \\\n",
       "test   0.0            0.0             0.0              0.0               0.0   \n",
       "\n",
       "      ci_event  ci_cancer  \n",
       "test       0.0        0.0  "
      ]
     },
     "execution_count": 72,
     "metadata": {},
     "output_type": "execute_result"
    }
   ],
   "source": [
    "df.loc['test'] = [0., 0., 0., 0., 0., 0., 0.]\n",
    "df"
   ]
  },
  {
   "cell_type": "code",
   "execution_count": 73,
   "metadata": {},
   "outputs": [],
   "source": [
    "df.to_csv(\"./data/predictions/test_results.csv\")"
   ]
  },
  {
   "cell_type": "code",
   "execution_count": 81,
   "metadata": {},
   "outputs": [],
   "source": [
    "import pandas as pd\n",
    "import numpy as np\n",
    "import torchmtlr as tm"
   ]
  },
  {
   "cell_type": "code",
   "execution_count": 75,
   "metadata": {},
   "outputs": [],
   "source": [
    "import glob\n",
    "import os"
   ]
  },
  {
   "cell_type": "code",
   "execution_count": 80,
   "metadata": {
    "scrolled": true
   },
   "outputs": [
    {
     "data": {
      "text/plain": [
       "['/cluster/projects/radiomics/Temp/sejin/aaai21_survival_prediction/data/logs/aaai/dual_mtlr_1550685',\n",
       " '/cluster/projects/radiomics/Temp/sejin/aaai21_survival_prediction/data/logs/aaai/dual_mtlr_1550686',\n",
       " '/cluster/projects/radiomics/Temp/sejin/aaai21_survival_prediction/data/logs/aaai/dual_mtlr_1550687',\n",
       " '/cluster/projects/radiomics/Temp/sejin/aaai21_survival_prediction/data/logs/aaai/dual_mtlr_1550688',\n",
       " '/cluster/projects/radiomics/Temp/sejin/aaai21_survival_prediction/data/logs/aaai/dual_mtlr_1550689',\n",
       " '/cluster/projects/radiomics/Temp/sejin/aaai21_survival_prediction/data/logs/aaai/dual_mtlr_1550691',\n",
       " '/cluster/projects/radiomics/Temp/sejin/aaai21_survival_prediction/data/logs/aaai/dual_mtlr_1550692',\n",
       " '/cluster/projects/radiomics/Temp/sejin/aaai21_survival_prediction/data/logs/aaai/dual_mtlr_1550693',\n",
       " '/cluster/projects/radiomics/Temp/sejin/aaai21_survival_prediction/data/logs/aaai/dual_mtlr_1550694',\n",
       " '/cluster/projects/radiomics/Temp/sejin/aaai21_survival_prediction/data/logs/aaai/dual_mtlr_1550695',\n",
       " '/cluster/projects/radiomics/Temp/sejin/aaai21_survival_prediction/data/logs/aaai/dual_mtlr_1550696',\n",
       " '/cluster/projects/radiomics/Temp/sejin/aaai21_survival_prediction/data/logs/aaai/dual_mtlr_1550697',\n",
       " '/cluster/projects/radiomics/Temp/sejin/aaai21_survival_prediction/data/logs/aaai/dual_mtlr_1553553',\n",
       " '/cluster/projects/radiomics/Temp/sejin/aaai21_survival_prediction/data/logs/aaai/dual_mtlr_1553554',\n",
       " '/cluster/projects/radiomics/Temp/sejin/aaai21_survival_prediction/data/logs/aaai/dual_mtlr_1553555',\n",
       " '/cluster/projects/radiomics/Temp/sejin/aaai21_survival_prediction/data/logs/aaai/dual_mtlr_1553700',\n",
       " '/cluster/projects/radiomics/Temp/sejin/aaai21_survival_prediction/data/logs/aaai/dual_mtlr_1553701',\n",
       " '/cluster/projects/radiomics/Temp/sejin/aaai21_survival_prediction/data/logs/aaai/dual_mtlr_1553702',\n",
       " '/cluster/projects/radiomics/Temp/sejin/aaai21_survival_prediction/data/logs/aaai/dual_mtlr_1553703',\n",
       " '/cluster/projects/radiomics/Temp/sejin/aaai21_survival_prediction/data/logs/aaai/dual_mtlr_1553710',\n",
       " '/cluster/projects/radiomics/Temp/sejin/aaai21_survival_prediction/data/logs/aaai/dual_mtlr_1553711',\n",
       " '/cluster/projects/radiomics/Temp/sejin/aaai21_survival_prediction/data/logs/aaai/dual_mtlr_1553712',\n",
       " '/cluster/projects/radiomics/Temp/sejin/aaai21_survival_prediction/data/logs/aaai/dual_mtlr_1553713',\n",
       " '/cluster/projects/radiomics/Temp/sejin/aaai21_survival_prediction/data/logs/aaai/dual_mtlr_1553714',\n",
       " '/cluster/projects/radiomics/Temp/sejin/aaai21_survival_prediction/data/logs/aaai/dual_mtlr_1553715',\n",
       " '/cluster/projects/radiomics/Temp/sejin/aaai21_survival_prediction/data/logs/aaai/dual_mtlr_1553716',\n",
       " '/cluster/projects/radiomics/Temp/sejin/aaai21_survival_prediction/data/logs/aaai/dual_mtlr_1553718',\n",
       " '/cluster/projects/radiomics/Temp/sejin/aaai21_survival_prediction/data/logs/aaai/dual_mtlr_1553719',\n",
       " '/cluster/projects/radiomics/Temp/sejin/aaai21_survival_prediction/data/logs/aaai/dual_mtlr_1553722',\n",
       " '/cluster/projects/radiomics/Temp/sejin/aaai21_survival_prediction/data/logs/aaai/dual_mtlr_1553724',\n",
       " '/cluster/projects/radiomics/Temp/sejin/aaai21_survival_prediction/data/logs/aaai/dual_mtlr_1553725',\n",
       " '/cluster/projects/radiomics/Temp/sejin/aaai21_survival_prediction/data/logs/aaai/dual_mtlr_1553726',\n",
       " '/cluster/projects/radiomics/Temp/sejin/aaai21_survival_prediction/data/logs/aaai/dual_mtlr_1553727']"
      ]
     },
     "execution_count": 80,
     "metadata": {},
     "output_type": "execute_result"
    }
   ],
   "source": [
    "models = sorted(glob.glob(\"/cluster/projects/radiomics/Temp/sejin/aaai21_survival_prediction/data/logs/aaai/dual_mtlr_155*\"))\n",
    "models"
   ]
  },
  {
   "cell_type": "code",
   "execution_count": 50,
   "metadata": {},
   "outputs": [],
   "source": [
    "def best_ckpt (arr):\n",
    "    \"\"\"\n",
    "    Returns checkpoint with highest ROC_AUC or highest LOSS\n",
    "    \"\"\"\n",
    "    best_idx, best_epoch, best_loss, best_auc = 0, 0, 0, 0\n",
    "    \n",
    "    for idx, c in enumerate(ckpts):\n",
    "        epoch, loss, auc = c.split(\"/\")[-1].split(\"-\")\n",
    "        epoch = float(epoch.split(\"=\")[-1])\n",
    "        loss  = float(loss.split(\"=\")[-1])\n",
    "        auc   = float(auc.split(\"=\")[-1][:-5])\n",
    "        if auc > best_auc:\n",
    "            best_idx, best_epoch, best_loss, best_auc = idx, epoch, loss, auc\n",
    "        elif auc == best_auc:\n",
    "            if loss < best_loss:\n",
    "                best_idx, best_epoch, best_loss, best_auc = idx, epoch, loss, auc\n",
    "            elif loss == best_loss:\n",
    "                if epoch > best_epoch:\n",
    "                    best_idx, best_epoch, best_loss, best_auc = idx, epoch, loss, auc\n",
    "        #print(ckpts[best_idx])\n",
    "    return ckpts[best_idx]"
   ]
  },
  {
   "cell_type": "code",
   "execution_count": 53,
   "metadata": {},
   "outputs": [],
   "source": [
    "best_checkpoints = []\n",
    "for model in models:\n",
    "    ckpts = glob.glob(model+\"/checkpoints/*\")       \n",
    "    best_checkpoints.append(best_ckpt(ckpts))"
   ]
  },
  {
   "cell_type": "code",
   "execution_count": 55,
   "metadata": {},
   "outputs": [
    {
     "data": {
      "text/plain": [
       "81"
      ]
     },
     "execution_count": 55,
     "metadata": {},
     "output_type": "execute_result"
    }
   ],
   "source": [
    "len(\"/cluster/projects/radiomics/Temp/sejin/aaai21_survival_prediction/data/logs/aaai/\")"
   ]
  },
  {
   "cell_type": "code",
   "execution_count": 56,
   "metadata": {},
   "outputs": [
    {
     "data": {
      "text/plain": [
       "['dual_mtlr_1550685/checkpoints/aaai_epoch=68-loss=2.01e+00-roc_auc=0.79.ckpt',\n",
       " 'dual_mtlr_1550686/checkpoints/aaai_epoch=68-loss=2.01e+00-roc_auc=0.79.ckpt',\n",
       " 'dual_mtlr_1550687/checkpoints/aaai_epoch=68-loss=2.01e+00-roc_auc=0.79.ckpt',\n",
       " 'dual_mtlr_1550688/checkpoints/aaai_epoch=68-loss=2.02e+00-roc_auc=0.79.ckpt',\n",
       " 'dual_mtlr_1550689/checkpoints/aaai_epoch=147-loss=2.01e+00-roc_auc=0.79.ckpt',\n",
       " 'dual_mtlr_1550691/checkpoints/aaai_epoch=121-loss=2.14e+00-roc_auc=0.78.ckpt',\n",
       " 'dual_mtlr_1550692/checkpoints/aaai_epoch=48-loss=2.04e+00-roc_auc=0.82.ckpt',\n",
       " 'dual_mtlr_1550693/checkpoints/aaai_epoch=200-loss=1.92e+00-roc_auc=0.81.ckpt',\n",
       " 'dual_mtlr_1550694/checkpoints/aaai_epoch=57-loss=2.02e+00-roc_auc=0.80.ckpt',\n",
       " 'dual_mtlr_1550695/checkpoints/aaai_epoch=61-loss=2.08e+00-roc_auc=0.83.ckpt',\n",
       " 'dual_mtlr_1550696/checkpoints/aaai_epoch=64-loss=2.28e+00-roc_auc=0.78.ckpt',\n",
       " 'dual_mtlr_1550697/checkpoints/aaai_epoch=191-loss=2.22e+00-roc_auc=0.79.ckpt']"
      ]
     },
     "execution_count": 56,
     "metadata": {},
     "output_type": "execute_result"
    }
   ],
   "source": [
    "[s[81:] for s in best_checkpoints]"
   ]
  },
  {
   "cell_type": "code",
   "execution_count": 8,
   "metadata": {},
   "outputs": [
    {
     "data": {
      "text/plain": [
       "['data/predictions/baseline_cnn.csv.npy',\n",
       " 'data/predictions/baseline_cnn.csvidx.npy']"
      ]
     },
     "execution_count": 8,
     "metadata": {},
     "output_type": "execute_result"
    }
   ],
   "source": [
    "arrs = glob.glob('data/predictions/*.npy')\n",
    "arrs"
   ]
  },
  {
   "cell_type": "code",
   "execution_count": 10,
   "metadata": {},
   "outputs": [
    {
     "data": {
      "text/plain": [
       "(750, 29)"
      ]
     },
     "execution_count": 10,
     "metadata": {},
     "output_type": "execute_result"
    }
   ],
   "source": [
    "m = np.load(arrs[0])\n",
    "m.shape"
   ]
  },
  {
   "cell_type": "code",
   "execution_count": 16,
   "metadata": {},
   "outputs": [],
   "source": [
    "import torch"
   ]
  },
  {
   "cell_type": "code",
   "execution_count": 21,
   "metadata": {},
   "outputs": [
    {
     "data": {
      "text/plain": [
       "torch.Size([750, 29])"
      ]
     },
     "execution_count": 21,
     "metadata": {},
     "output_type": "execute_result"
    }
   ],
   "source": [
    "tm.mtlr_survival(torch.Tensor(m)).shape"
   ]
  },
  {
   "cell_type": "code",
   "execution_count": null,
   "metadata": {},
   "outputs": [],
   "source": []
  }
 ],
 "metadata": {
  "kernelspec": {
   "display_name": "Python 3",
   "language": "python",
   "name": "python3"
  },
  "language_info": {
   "codemirror_mode": {
    "name": "ipython",
    "version": 3
   },
   "file_extension": ".py",
   "mimetype": "text/x-python",
   "name": "python",
   "nbconvert_exporter": "python",
   "pygments_lexer": "ipython3",
   "version": "3.8.5"
  }
 },
 "nbformat": 4,
 "nbformat_minor": 4
}
